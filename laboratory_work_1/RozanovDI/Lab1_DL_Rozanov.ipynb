{
 "cells": [
  {
   "cell_type": "markdown",
   "id": "47829929-3c7c-4d99-a6de-181726213f45",
   "metadata": {},
   "source": [
    "# Лабораторная 1"
   ]
  },
  {
   "cell_type": "markdown",
   "id": "1801491b-556c-453a-91be-b93aebcb8b0f",
   "metadata": {},
   "source": [
    "**Цель**: изучить метод обратного распространения ошибки для обучения глубоких нейронных сетей на примере двухслойной полносвязной нейронной сети   \n",
    "**Скрытый слой:** 1"
   ]
  },
  {
   "cell_type": "markdown",
   "id": "8d7e106a-3e6c-49bf-b7d8-c9fb8622c534",
   "metadata": {},
   "source": [
    "## Задачи"
   ]
  },
  {
   "cell_type": "markdown",
   "id": "3485a36a-bcec-4601-81d6-f2807d814ba6",
   "metadata": {},
   "source": [
    "1. Изучить общие схемы работы метода обратного распространения ошибки с помощью стохастического градиентного спуска\n",
    "2. Вывести мат-формулы:\n",
    "    - для вычисления градиентов функции ошибки по параметрам нейронной сети\n",
    "    - формулы коррекции весов.\n",
    "3. Реализация и тестирование метода обратного распространения ошибки для классификации рукописных цифр из набора данных MNIST\n",
    "   - Загрузить и проверить данные: демонстрацию избранных изображений и меток классов для подтверждения корректности загрузки и совпадения размерности\n",
    "   - По окончании каждой эпохи в процессе обучения модели вывести ошибку классификации на тренировочном наборе данных и время выполнения эпохи.\n",
    "   - После обучения вывести ошибку классификации на тестовом наборе данных."
   ]
  },
  {
   "cell_type": "markdown",
   "id": "44840526-d64d-4a22-bd26-d880e8236871",
   "metadata": {},
   "source": [
    "## Конфигурация нейронной сети:"
   ]
  },
  {
   "cell_type": "markdown",
   "id": "b53a4a9d-5d9b-4c57-a727-1ac03c10ac9d",
   "metadata": {},
   "source": [
    "**Число нейронов входного слоя:** w x h (28 x 28)  \n",
    "**Число нейронов вых слоя:** k = 10 (числов классов)  \n",
    "**Число нейронов скрытого слоя:** s"
   ]
  },
  {
   "cell_type": "markdown",
   "id": "f6fc7e61-2077-42f2-bbfc-216d9924d25f",
   "metadata": {},
   "source": [
    "**Параметры обучения:** \n",
    "- cкорость обучения (learning rate)\n",
    "- размер пачки данных (batch size)\n",
    "- количество эпох являются параметрами метода обучения"
   ]
  },
  {
   "cell_type": "markdown",
   "id": "f8087885-8a0c-481b-890b-8af724903f9d",
   "metadata": {},
   "source": [
    "**Ф. активации скрытого слоя:** ReLU  \n",
    "**Ф. активации вых слоя:** softmax  \n",
    "**Ф. активации вх слоя:** нет"
   ]
  },
  {
   "cell_type": "markdown",
   "id": "4e85d29f-f962-422c-b58a-aef1a54dc05b",
   "metadata": {},
   "source": [
    "**Ф ош.:** кросс-энтропия"
   ]
  },
  {
   "cell_type": "markdown",
   "id": "cd96f4ba-fcfc-48a9-991f-4c2816afeacd",
   "metadata": {},
   "source": [
    "## Набор параметров для демонстрации: "
   ]
  },
  {
   "cell_type": "markdown",
   "id": "0d503542-4316-4969-88e9-01d162242b52",
   "metadata": {},
   "source": [
    "- **Размер пачки:** от 8 до 64 изображений  \n",
    "- **Скорость обучения:** 0.1  \n",
    "- **Количество скрытых нейронов s:** 300  \n",
    "- **Количество эпох:** 20"
   ]
  },
  {
   "cell_type": "markdown",
   "id": "fd8ed990-3e1c-4cc6-a550-b185e42f5272",
   "metadata": {},
   "source": [
    "## ❗❗❗ Решение"
   ]
  },
  {
   "cell_type": "markdown",
   "id": "023be061-5431-40f9-834f-063b744a0e47",
   "metadata": {},
   "source": [
    "### Подключение библиотек"
   ]
  },
  {
   "cell_type": "code",
   "execution_count": 1,
   "id": "162a1c69-6920-4ac4-a4f8-cad09b802aae",
   "metadata": {},
   "outputs": [],
   "source": [
    "import numpy as np\n",
    "import matplotlib.pyplot as plt\n",
    "import idx2numpy\n",
    "import os       \n",
    "import time\n",
    "\n",
    "from timeit import default_timer as timer"
   ]
  },
  {
   "cell_type": "markdown",
   "id": "f33631e7-c431-4d96-97c4-bdf9e7a67a67",
   "metadata": {},
   "source": [
    "## ✅ Считывание MNIST \n",
    "**x:** изображения  \n",
    "**y:** метки (значения 0, ..., 9)"
   ]
  },
  {
   "cell_type": "code",
   "execution_count": 2,
   "id": "c1425f7b-19f3-423c-b004-f8b0d9fadf7f",
   "metadata": {},
   "outputs": [],
   "source": [
    "def get_train_test_data():\n",
    "    path = 'E:/MNIST/'\n",
    "    \n",
    "    if not os.path.exists(path + 'train-images-idx3-ubyte'):\n",
    "        raise FileNotFoundError(f\"Файл {path + 'train-images-idx3-ubyte'} не найден.\") \n",
    "    if not os.path.exists(path + 't10k-images-idx3-ubyte'):\n",
    "        raise FileNotFoundError(f\"Файл {path + 't10k-images-idx3-ubyte'} не найден.\") \n",
    "    if not os.path.exists(path + 'train-labels-idx1-ubyte'):\n",
    "        raise FileNotFoundError(f\"Файл {path + 'train-labels-idx1-ubyte'} не найден.\") \n",
    "    if not os.path.exists(path + 't10k-labels-idx1-ubyte'):\n",
    "        raise FileNotFoundError(f\"Файл {path + 't10k-labels-idx1-ubyte'} не найден.\") \n",
    "    \n",
    "    x_train = idx2numpy.convert_from_file(path + 'train-images-idx3-ubyte')\n",
    "    x_test = idx2numpy.convert_from_file(path + 't10k-images-idx3-ubyte')\n",
    "    \n",
    "    y_train = idx2numpy.convert_from_file(path + 'train-labels-idx1-ubyte')\n",
    "    y_test = idx2numpy.convert_from_file(path + 't10k-labels-idx1-ubyte')\n",
    "\n",
    "    return x_train, x_test, y_train, y_test"
   ]
  },
  {
   "cell_type": "code",
   "execution_count": 3,
   "id": "5630dd23-e045-435b-8dc1-63b36b76e29a",
   "metadata": {},
   "outputs": [],
   "source": [
    "x_train, x_test, y_train, y_test = get_train_test_data()"
   ]
  },
  {
   "cell_type": "markdown",
   "id": "0ebb076d-11ee-459e-abb7-b9ffe29d831d",
   "metadata": {},
   "source": [
    "## ✅ Проверка корректности считывания"
   ]
  },
  {
   "cell_type": "code",
   "execution_count": 4,
   "id": "690b214d-b5f8-460e-bf92-f4d4d0bbca9f",
   "metadata": {},
   "outputs": [],
   "source": [
    "def plot_mnist_samples(images, labels, num_samples = 10):\n",
    "    # Выбирает случайные примеры\n",
    "    # len(images): Это количество элементов, из которых будет производиться выбор\n",
    "    # size=num_samples: Определяет, сколько элементов будет выбрано\n",
    "    # replace=False: один и тот же индекс не может быть выбран несколько раз\n",
    "    indices = np.random.choice(len(images), size = num_samples, replace = False)\n",
    "    images_to_plot = images[indices]\n",
    "    labels_to_plot = labels[indices]\n",
    "\n",
    "    # Создает фигуру и подписи\n",
    "    fig, axes = plt.subplots(1, num_samples, figsize = (15, 3))\n",
    "    fig.suptitle('Примеры из MNIST')\n",
    "\n",
    "    # Отображает изображения\n",
    "    for i, ax in enumerate(axes):\n",
    "        ax.imshow(images_to_plot[i], cmap = 'gray')\n",
    "        ax.set_title(f'Метка: {labels_to_plot[i]}')\n",
    "        # отключает отображение осей на графике. \n",
    "        ax.axis('off')\n",
    "\n",
    "    # подбирает такие параметры размещения элементов, чтобы избежать наложений\n",
    "    plt.tight_layout()\n",
    "    plt.show()"
   ]
  },
  {
   "cell_type": "markdown",
   "id": "03b5ca49-bf1c-4848-b4ce-af7034f0c801",
   "metadata": {},
   "source": [
    "**Размер обуч. и тестовой выборки:**"
   ]
  },
  {
   "cell_type": "code",
   "execution_count": 5,
   "id": "264d91d7-9cb2-4162-92cc-7f79d96aa6c3",
   "metadata": {},
   "outputs": [
    {
     "data": {
      "text/plain": [
       "((60000, 28, 28), (60000,))"
      ]
     },
     "execution_count": 5,
     "metadata": {},
     "output_type": "execute_result"
    }
   ],
   "source": [
    "x_train.shape, y_train.shape"
   ]
  },
  {
   "cell_type": "code",
   "execution_count": 6,
   "id": "3c51b39a-d64d-4552-af0c-4a37bfeb2937",
   "metadata": {},
   "outputs": [
    {
     "data": {
      "text/plain": [
       "((10000, 28, 28), (10000,))"
      ]
     },
     "execution_count": 6,
     "metadata": {},
     "output_type": "execute_result"
    }
   ],
   "source": [
    "x_test.shape, y_test.shape"
   ]
  },
  {
   "cell_type": "markdown",
   "id": "a869dcb7-5053-45c4-aac9-5f30cfaee06f",
   "metadata": {},
   "source": [
    "**Примеры:**"
   ]
  },
  {
   "cell_type": "code",
   "execution_count": 7,
   "id": "7f11209a-bd3d-4f53-b5de-687f1eb09353",
   "metadata": {},
   "outputs": [
    {
     "data": {
      "image/png": "[encoded data removed]",
      "text/plain": [
       "<Figure size 1500x300 with 15 Axes>"
      ]
     },
     "metadata": {},
     "output_type": "display_data"
    }
   ],
   "source": [
    "plot_mnist_samples(x_train, y_train, 15)"
   ]
  },
  {
   "cell_type": "markdown",
   "id": "db143bfb-74df-4d80-9db5-cd2007eef86e",
   "metadata": {},
   "source": [
    "**Уникальные значения y_test:** (всего 10000 примеров)"
   ]
  },
  {
   "cell_type": "code",
   "execution_count": 8,
   "id": "3cda9de8-a9b1-4fce-898b-659e122952dd",
   "metadata": {},
   "outputs": [
    {
     "name": "stdout",
     "output_type": "stream",
     "text": [
      "0: 980\n",
      "1: 1135\n",
      "2: 1032\n",
      "3: 1010\n",
      "4: 982\n",
      "5: 892\n",
      "6: 958\n",
      "7: 1028\n",
      "8: 974\n",
      "9: 1009\n"
     ]
    }
   ],
   "source": [
    "# Подсчет уникальных значений и их количества\n",
    "unique, counts = np.unique(y_test, return_counts=True)\n",
    "\n",
    "# Вывод результатов\n",
    "for value, count in zip(unique, counts):\n",
    "    print(f\"{value}: {count}\")"
   ]
  },
  {
   "cell_type": "markdown",
   "id": "a71d3fff-0cd0-4efc-af74-800b66cdc6da",
   "metadata": {},
   "source": [
    "**Уникальные значения y_train:** (всего 60000 примеров)"
   ]
  },
  {
   "cell_type": "code",
   "execution_count": 9,
   "id": "c81b9575-60c6-46f7-8494-2b5f3a310f49",
   "metadata": {},
   "outputs": [
    {
     "name": "stdout",
     "output_type": "stream",
     "text": [
      "0: 5923\n",
      "1: 6742\n",
      "2: 5958\n",
      "3: 6131\n",
      "4: 5842\n",
      "5: 5421\n",
      "6: 5918\n",
      "7: 6265\n",
      "8: 5851\n",
      "9: 5949\n"
     ]
    }
   ],
   "source": [
    "# Подсчет уникальных значений и их количества\n",
    "unique, counts = np.unique(y_train, return_counts=True)\n",
    "\n",
    "# Вывод результатов\n",
    "for value, count in zip(unique, counts):\n",
    "    print(f\"{value}: {count}\")"
   ]
  },
  {
   "cell_type": "markdown",
   "id": "28212637-6b1c-44c5-954d-d121bd2844ce",
   "metadata": {},
   "source": [
    "## ✅ Преобразование данных"
   ]
  },
  {
   "cell_type": "code",
   "execution_count": 10,
   "id": "4cfc9a4f-99be-4e86-8d04-4c3c8f81a255",
   "metadata": {},
   "outputs": [],
   "source": [
    "# количество образцов в обуч/ тест. выборке\n",
    "size_train, size_test = x_train.shape[0], x_test.shape[0]\n",
    "\n",
    "# 2D-изображение размером 28x28 -> массив длиной 784 (28 х 28).\n",
    "# / 255: Нормализация значений пикселей\n",
    "x_train = x_train.reshape(size_train, 28 * 28) / 255\n",
    "x_test = x_test.reshape(size_test, 28 * 28) / 255\n",
    "\n",
    "# создает единичную матрицу размером 10x10, где на главной диагонали находятся единицы, а остальные элементы — нули.\n",
    "# Например, если в y_train есть значение 2, то np.eye(10)[2] вернет строку [0, 0, 1, 0, 0, 0, 0, 0, 0, 0]\n",
    "y_train = np.eye(10)[y_train]\n",
    "y_test = np.eye(10)[y_test]"
   ]
  },
  {
   "cell_type": "markdown",
   "id": "3b58be88-7cd3-465a-adf1-a4bfbadea36a",
   "metadata": {},
   "source": [
    " ## ✅ Функции активации 1-2, функция ошибки, точность (accuracy)"
   ]
  },
  {
   "cell_type": "markdown",
   "id": "10a0ca4f-87c4-4bc5-a20a-72a01266b165",
   "metadata": {},
   "source": [
    "### Функция активации 1: ReLU  (+ ее производная)"
   ]
  },
  {
   "cell_type": "code",
   "execution_count": 11,
   "id": "5e43393a-4c23-4d3c-b80b-fa5f35d935ec",
   "metadata": {},
   "outputs": [],
   "source": [
    "def ReLU(x):\n",
    "    return np.maximum(x, 0)\n",
    "\n",
    "def d_ReLU_dx(x):\n",
    "    return np.where(x > 0.0, 1, 0)"
   ]
  },
  {
   "cell_type": "markdown",
   "id": "09560218-f0bb-4204-809f-2d159a001c47",
   "metadata": {},
   "source": [
    "### Функция активации 2: Softmax"
   ]
  },
  {
   "cell_type": "code",
   "execution_count": 12,
   "id": "3784c08c-4a0a-45e6-b748-510cc22c6983",
   "metadata": {},
   "outputs": [],
   "source": [
    "def softmax(u):\n",
    "    shift = np.max(u, axis = u.ndim - 1, keepdims = True)\n",
    "    u = np.exp(u - shift)\n",
    "    denominator = np.sum(u, axis=u.ndim - 1, keepdims = True)\n",
    "\n",
    "    return u / denominator"
   ]
  },
  {
   "cell_type": "markdown",
   "id": "7b6bd643-8003-4799-ad32-e9d7f796eb8b",
   "metadata": {},
   "source": [
    "### Функция ошибки: кросс-энтропия"
   ]
  },
  {
   "cell_type": "code",
   "execution_count": 13,
   "id": "c390e2d6-111c-4c4e-90ba-f8747eee7a58",
   "metadata": {},
   "outputs": [],
   "source": [
    "def crossEntropyLoss(y, u):\n",
    "    return np.mean(-np.sum(y * np.log(u), axis = 1))"
   ]
  },
  {
   "cell_type": "markdown",
   "id": "4025a361-cde1-4a4e-8ad4-585b200d3cc0",
   "metadata": {},
   "source": [
    "### Точность (accuracy)"
   ]
  },
  {
   "cell_type": "code",
   "execution_count": 14,
   "id": "28681b86-5b0b-4fc6-be95-4c0eb8cbf924",
   "metadata": {},
   "outputs": [],
   "source": [
    "def accuracy(y, u):\n",
    "  return np.mean(np.argmax(y, axis = 1) == np.argmax(u, axis = 1))"
   ]
  },
  {
   "cell_type": "markdown",
   "id": "b35a5ad1-a47f-4861-9c74-a783103718e8",
   "metadata": {},
   "source": [
    " ## ✅Метод обратного распространения ошибки"
   ]
  },
  {
   "cell_type": "markdown",
   "id": "2315ec73-5458-4453-865c-54827452d49e",
   "metadata": {},
   "source": [
    "### Класс нейронной сети (NeuralNetwork)"
   ]
  },
  {
   "cell_type": "code",
   "execution_count": 15,
   "id": "09cb0ee4-49a0-4737-b246-c50db0715ed3",
   "metadata": {},
   "outputs": [],
   "source": [
    "def dE_dW0(z0, err_u, x_transpose, w1_transpose):\n",
    "    # (u - y) * w2 * φ(z0)\n",
    "    err_v = np.matmul(err_u, w1_transpose) * d_ReLU_dx(z0)\n",
    "    \n",
    "    # x * {(u - y) * w2 * φ(z0)}\n",
    "    dE_dW0 = np.matmul(x_transpose, err_v)\n",
    "\n",
    "    return err_v, dE_dW0"
   ]
  },
  {
   "cell_type": "code",
   "execution_count": 16,
   "id": "f02bc312-2134-4882-ac42-f7da0b2de72f",
   "metadata": {},
   "outputs": [],
   "source": [
    "def dE_dW1(u, y, v_transpose):\n",
    "    # u_j - y_j: знач ошибки вых сл.\n",
    "    err_u = (u - y) / u.shape[0]\n",
    "\n",
    "    # (u_j - y_j) * v_s\n",
    "    dE_dW1 = np.matmul(v_transpose, err_u)    \n",
    "    \n",
    "    return err_u, dE_dW1"
   ]
  },
  {
   "cell_type": "code",
   "execution_count": 17,
   "id": "eecddf7c-f172-4040-b172-8c021b80bf7a",
   "metadata": {},
   "outputs": [],
   "source": [
    "class NeuralNetwork(object):\n",
    "    # Конструктор\n",
    "    def __init__(self, _inputLayerSize = 28 * 28, _s = 300, _k = 10, learning_rate = 0.1, batch_size = 32):\n",
    "        self.input_layers_size = _inputLayerSize\n",
    "        self.s = _s\n",
    "        self.k = _k\n",
    "\n",
    "        # первый слой вх -> скрытый: веса, смещения\n",
    "        # стандартного нормального распределения (среднее = 0, стандартное отклонение = 1)\n",
    "        self.w0 = np.random.randn(_inputLayerSize, _s) * np.sqrt(2.0 /_inputLayerSize)\n",
    "        self.b0 = np.zeros((1, _s))\n",
    "        \n",
    "        # второй слой скрытый -> вых: веса, смещения\n",
    "        # стандартного нормального распределения (среднее = 0, стандартное отклонение = 1)\n",
    "        self.w1 = np.random.randn(_s, _k) * np.sqrt(2.0 /_s)\n",
    "        self.b1 = np.zeros((1, _k))\n",
    "\n",
    "        self.learning_rate = learning_rate\n",
    "        self.batch_size = batch_size\n",
    "    \n",
    "    # прямой ход \n",
    "    def forward(self, x):\n",
    "        self.z0 = np.matmul(x, self.w0) + self.b0\n",
    "        self.v = ReLU(self.z0)\n",
    "\n",
    "        self.z1 = np.matmul(self.v, self.w1) + self.b1\n",
    "        self.u = softmax(self.z1)\n",
    "\n",
    "    # обратных ход: вычисление градиента функции ошибки + корректировка весов сети при помощи посчитанных градиентов\n",
    "    def backward(self, x, y, learningRate):\n",
    "        err_u, dEdW1 = dE_dW1(self.u, y, self.v.T)\n",
    "        err_v, dEdW0 = dE_dW0(self.z0, err_u, x.T, self.w1.T)\n",
    "\n",
    "        # сумма по каждому столбцу элементов массива err_v\n",
    "        delta_b0 = np.sum(err_v, axis = 0, keepdims = True)\n",
    "        # сумма по каждому столбцу элементов массива err_u\n",
    "        delta_b1 = np.sum(err_u, axis = 0, keepdims = True)\n",
    "\n",
    "        # Корректировка\n",
    "        # λ = learning_rate\n",
    "        self.w0 -= self.learning_rate * dEdW0\n",
    "        self.w1 -= self.learning_rate * dEdW1\n",
    "\n",
    "        self.b0 -= self.learning_rate * delta_b0\n",
    "        self.b1 -= self.learning_rate * delta_b1\n",
    "\n",
    "    def train_one_epoch(self, x_train, y_train):\n",
    "        i = 0\n",
    "        # Цикл, пока не обработаны все данные для обучения\n",
    "        while i < len(x_train):\n",
    "            # Извлечение текущего подмассива (batch) данных для обучения + соответствующих меток для текущей партии данных\n",
    "            #  Срез массива x_train[i:i + self.batch_size]: создает новый массив, содержащий элементы x_train от индекса i до i + self.batch_size - 1.\n",
    "            x_train_batch = x_train[i:i + self.batch_size]\n",
    "            y_train_batch = y_train[i:i + self.batch_size]\n",
    "\n",
    "            # Прямой проход (forward propagation) + Обратный проход (backward propagation)\n",
    "            self.forward(x_train_batch)\n",
    "            self.backward(x_train_batch, y_train_batch, self.learning_rate)\n",
    "\n",
    "            i += self.batch_size\n",
    "\n",
    "        # predictions\n",
    "        self.forward(x_train)\n",
    "\n",
    "        # Вычисление значения функции потерь и точности\n",
    "        value_crossEntropy = crossEntropyLoss(y_train, self.u)\n",
    "        value_accuracy = accuracy(y_train, self.u)\n",
    "\n",
    "        return value_crossEntropy, value_accuracy\n",
    "\n",
    "    # обучение нейронной сети\n",
    "    def train(self, X_train, y_train, num_epochs = 10):\n",
    "        print('Training has started: ...')\n",
    "        print('______________________________________________________________________________')        \n",
    "        \n",
    "        all_time = time.time()\n",
    "        for epoch in range(num_epochs):\n",
    "            epoch_time_start = time.time()\n",
    "            \n",
    "            crossEntropyValue, accuracyValue = self.train_one_epoch(x_train, y_train)\n",
    "            \n",
    "            epoch_time = time.time()\n",
    "            duration_time = epoch_time - epoch_time_start\n",
    "            print('Epoch: {}; Время работы: {:.3f} sec; Ошибка: {:.6f}; Точность: {:.6f}'.format(epoch, duration_time, crossEntropyValue, accuracyValue))\n",
    "            \n",
    "        print(f\"Итоговое время обучения: {(time.time() - all_time):.3f} sec\")\n",
    "\n",
    "    # тестирование нейронной сети + вывод value_crossEntropy и accuracy\n",
    "    def test(self, x_test, y_test):\n",
    "        print('Testing has started: ...')\n",
    "        print('______________________________________________________________________________')\n",
    "        all_time = time.time()\n",
    "        \n",
    "        self.forward(x_test)\n",
    "        \n",
    "        crossEntropyValue = crossEntropyLoss(y_test, self.u)\n",
    "        accuracyValue = accuracy(y_test, self.u)\n",
    "\n",
    "        duaration_time = time.time() - all_time\n",
    "        \n",
    "        print('Время работы: {} sec; Ошибка = {:6f}; Точность = {:6f}'.format(duaration_time, crossEntropyValue, accuracyValue))"
   ]
  },
  {
   "cell_type": "markdown",
   "id": "33309ac1-a435-4120-bdbf-ab2e12b1ee24",
   "metadata": {},
   "source": [
    "### Набор параметров для демонстрации:"
   ]
  },
  {
   "cell_type": "markdown",
   "id": "9649468b-1169-4263-b1e8-5abb45620f39",
   "metadata": {},
   "source": [
    "- **Размер пачки:** от 8 до 64 изображений  \n",
    "- **Скорость обучения:** 0.1  \n",
    "- **Количество скрытых нейронов s:** 300  \n",
    "- **Количество эпох:** 20"
   ]
  },
  {
   "cell_type": "code",
   "execution_count": 18,
   "id": "3b1b389e-825a-4e60-8877-b33af1845c47",
   "metadata": {},
   "outputs": [],
   "source": [
    "input_layer_size = 28 * 28  \n",
    "s = 300  \n",
    "k = 10  \n",
    "\n",
    "learning_rate = 0.1\n",
    "epochs = 20\n",
    "batch_size = 32"
   ]
  },
  {
   "cell_type": "markdown",
   "id": "82130a1e-1c9a-4eb2-9acf-51971dceda47",
   "metadata": {},
   "source": [
    "### Создание объекта класса NeuralNetwork"
   ]
  },
  {
   "cell_type": "code",
   "execution_count": 19,
   "id": "e3d26eea-1b4d-4dab-bbeb-5ac19b2c24e3",
   "metadata": {},
   "outputs": [],
   "source": [
    "nn = NeuralNetwork(input_layer_size, s, k, learning_rate)"
   ]
  },
  {
   "cell_type": "markdown",
   "id": "e36707de-0395-4cc5-ace2-1027102d9450",
   "metadata": {},
   "source": [
    "### Обучение модели"
   ]
  },
  {
   "cell_type": "code",
   "execution_count": 20,
   "id": "96106927-cf05-4c52-b1fb-c889d95ac878",
   "metadata": {},
   "outputs": [
    {
     "name": "stdout",
     "output_type": "stream",
     "text": [
      "Training has started: ...\n",
      "______________________________________________________________________________\n",
      "Epoch: 0; Время работы: 3.457 sec; Ошибка: 0.165922; Точность: 0.950483\n",
      "Epoch: 1; Время работы: 3.444 sec; Ошибка: 0.108791; Точность: 0.967767\n",
      "Epoch: 2; Время работы: 3.508 sec; Ошибка: 0.081697; Точность: 0.975417\n",
      "Epoch: 3; Время работы: 3.479 sec; Ошибка: 0.065244; Точность: 0.980817\n",
      "Epoch: 4; Время работы: 3.536 sec; Ошибка: 0.053252; Точность: 0.984533\n",
      "Epoch: 5; Время работы: 3.494 sec; Ошибка: 0.045249; Точность: 0.986950\n",
      "Epoch: 6; Время работы: 3.562 sec; Ошибка: 0.039158; Точность: 0.988800\n",
      "Epoch: 7; Время работы: 3.567 sec; Ошибка: 0.033562; Точность: 0.990450\n",
      "Epoch: 8; Время работы: 3.471 sec; Ошибка: 0.029571; Точность: 0.991817\n",
      "Epoch: 9; Время работы: 3.490 sec; Ошибка: 0.025689; Точность: 0.993000\n",
      "Epoch: 10; Время работы: 3.543 sec; Ошибка: 0.022987; Точность: 0.993967\n",
      "Epoch: 11; Время работы: 3.501 sec; Ошибка: 0.020123; Точность: 0.994900\n",
      "Epoch: 12; Время работы: 3.542 sec; Ошибка: 0.018166; Точность: 0.995383\n",
      "Epoch: 13; Время работы: 3.715 sec; Ошибка: 0.016326; Точность: 0.996100\n",
      "Epoch: 14; Время работы: 3.714 sec; Ошибка: 0.014616; Точность: 0.996800\n",
      "Epoch: 15; Время работы: 3.549 sec; Ошибка: 0.013162; Точность: 0.997167\n",
      "Epoch: 16; Время работы: 3.577 sec; Ошибка: 0.012158; Точность: 0.997450\n",
      "Epoch: 17; Время работы: 3.653 sec; Ошибка: 0.010779; Точность: 0.997850\n",
      "Epoch: 18; Время работы: 3.524 sec; Ошибка: 0.009884; Точность: 0.998233\n",
      "Epoch: 19; Время работы: 3.504 sec; Ошибка: 0.009071; Точность: 0.998467\n",
      "Итоговое время обучения: 70.832 sec\n"
     ]
    }
   ],
   "source": [
    "nn.train(x_train, y_train, epochs)"
   ]
  },
  {
   "cell_type": "markdown",
   "id": "5cf5e693-44fa-4395-9694-fe72ab3a9bd7",
   "metadata": {},
   "source": [
    "### Тестирование модели"
   ]
  },
  {
   "cell_type": "code",
   "execution_count": 21,
   "id": "87681183-4454-4338-86c7-81c17dbec5ff",
   "metadata": {},
   "outputs": [
    {
     "name": "stdout",
     "output_type": "stream",
     "text": [
      "Testing has started: ...\n",
      "______________________________________________________________________________\n",
      "Время работы: 0.08727645874023438 sec; Ошибка = 0.069638; Точность = 0.980300\n"
     ]
    }
   ],
   "source": [
    "nn.test(x_test, y_test)"
   ]
  },
  {
   "cell_type": "code",
   "execution_count": null,
   "id": "47d96db8-e724-4e79-b3a4-43586104e7fb",
   "metadata": {},
   "outputs": [],
   "source": []
  }
 ],
 "metadata": {
  "kernelspec": {
   "display_name": "Python 3 (ipykernel)",
   "language": "python",
   "name": "python3"
  },
  "language_info": {
   "codemirror_mode": {
    "name": "ipython",
    "version": 3
   },
   "file_extension": ".py",
   "mimetype": "text/x-python",
   "name": "python",
   "nbconvert_exporter": "python",
   "pygments_lexer": "ipython3",
   "version": "3.12.5"
  }
 },
 "nbformat": 4,
 "nbformat_minor": 5
}
